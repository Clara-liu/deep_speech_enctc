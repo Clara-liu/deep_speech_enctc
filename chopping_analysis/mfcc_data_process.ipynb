{
 "cells": [
  {
   "cell_type": "code",
   "execution_count": 1,
   "metadata": {},
   "outputs": [],
   "source": [
    "import pandas as pd\n",
    "import numpy as np\n",
    "import matplotlib.pyplot as plt\n",
    "from mfcc_data_prep import wavFiles, getMFCC, plotMFCC\n",
    "from LSTM_grid_search import getData\n",
    "from sklearn.preprocessing import StandardScaler\n",
    "%matplotlib inline"
   ]
  },
  {
   "cell_type": "code",
   "execution_count": 2,
   "metadata": {},
   "outputs": [],
   "source": [
    "def getSpeakerData(speaker: 'str speaker',\n",
    "                   nmfcc: 'int number of mfccs',\n",
    "                   centre = True)->'pd dataframe for all triplets for this speaker':\n",
    "    # intiate a wav obj\n",
    "    wav_obj = wavFiles('0')\n",
    "    # get the keys for all groups\n",
    "    groups = list(wav_obj.group_dict.keys())\n",
    "    for w in groups:\n",
    "        wavs = wavFiles(w)\n",
    "        path = f'/Users/claraliu/Documents/SHaPS_PhD/resyllabification_study/pilot_2/{speaker}/normal_sound_files'\n",
    "        wavs.get_files(path)\n",
    "        current_df = getMFCC(wavs, speaker, nmfcc, w)\n",
    "        if groups.index(w) == 0:\n",
    "            data = current_df\n",
    "        else:\n",
    "            data = pd.concat([data, current_df])\n",
    "    if centre:\n",
    "        # cepstral mean subtraction\n",
    "        scaler = StandardScaler(with_std = False)\n",
    "        cols = ['c'+ str(x) for x in range(nmfcc)]\n",
    "        data[cols] = scaler.fit_transform(data[cols])\n",
    "    return data"
   ]
  },
  {
   "cell_type": "code",
   "execution_count": 8,
   "metadata": {},
   "outputs": [],
   "source": [
    "speakers = ['DM', 'PC', 'TB', 'JRD', 'KZ']\n",
    "for s in speakers:\n",
    "    if s == 'DM':\n",
    "        centred = getSpeakerData(s, 15, centre = True)\n",
    "        #not_centred = getSpeakerData(s, 15, centre = False)\n",
    "    else:\n",
    "        centred = pd.concat([centred, getSpeakerData(s, 15, centre = True)])\n",
    "        #not_centred = pd.concat([not_centred, getSpeakerData(s, 15, centre = False)])\n",
    "centred.to_csv('/Users/claraliu/Documents/SHaPS_PhD/resyllabification_study/chopping_analysis/mfcc_data/centred.txt', \n",
    "               sep = '\\t', index = False)\n",
    "#not_centred.to_csv('/Users/claraliu/Documents/SHaPS_PhD/resyllabification_study/chopping_analysis/mfcc_data/not_centred.txt', \n",
    "           #sep = '\\t', index = False)"
   ]
  },
  {
   "cell_type": "code",
   "execution_count": 9,
   "metadata": {},
   "outputs": [
    {
     "name": "stdout",
     "output_type": "stream",
     "text": [
      "(120786, 20)\n"
     ]
    }
   ],
   "source": [
    "centred = pd.read_csv('/Users/claraliu/Documents/SHaPS_PhD/resyllabification_study/chopping_analysis/mfcc_data/centred.txt',\n",
    "                      sep = '\\t')\n",
    "print(centred.shape)"
   ]
  },
  {
   "cell_type": "code",
   "execution_count": 11,
   "metadata": {},
   "outputs": [
    {
     "name": "stdout",
     "output_type": "stream",
     "text": [
      "(120786, 20)\n"
     ]
    }
   ],
   "source": [
    "not_centred = pd.read_csv('/Users/claraliu/Documents/SHaPS_PhD/resyllabification_study/chopping_analysis/mfcc_data/not_centred.txt',\n",
    "                      sep = '\\t')\n",
    "print(not_centred.shape)"
   ]
  },
  {
   "cell_type": "code",
   "execution_count": 42,
   "metadata": {},
   "outputs": [],
   "source": [
    "def subsetTriplets(path: 'str path to folder', df: 'pandas dataframe all speakers data')->None:\n",
    "    group_dict = wavFiles('0').group_dict\n",
    "    groups = list(group_dict.keys())\n",
    "    for g in groups:\n",
    "        current_group = df[df['Group'] == int(g)]\n",
    "        o_words = group_dict[g][:2]\n",
    "        c_words = group_dict[g][2:]\n",
    "        current_group_o = current_group[current_group['Word'].isin(o_words)]\n",
    "        current_group_c = current_group[current_group['Word'].isin(c_words)]\n",
    "        o_path = f'{path}/{g}_o.txt'\n",
    "        c_path = f'{path}/{g}_c.txt'\n",
    "        current_group_o.to_csv(o_path, sep = '\\t', index = False)\n",
    "        current_group_c.to_csv(c_path, sep = '\\t', index = False)"
   ]
  },
  {
   "cell_type": "code",
   "execution_count": 43,
   "metadata": {},
   "outputs": [],
   "source": [
    "subsetTriplets('/Users/claraliu/Documents/SHaPS_PhD/resyllabification_study/chopping_analysis/mfcc_data/byTriplet/centred', centred)"
   ]
  },
  {
   "cell_type": "code",
   "execution_count": 17,
   "metadata": {},
   "outputs": [
    {
     "data": {
      "image/png": "[encoded data removed]",
      "text/plain": [
       "<Figure size 1080x360 with 1 Axes>"
      ]
     },
     "metadata": {
      "needs_background": "light"
     },
     "output_type": "display_data"
    }
   ],
   "source": [
    "plotMFCC(not_centred, 'coo_Pete', 2, 'TB')"
   ]
  }
 ],
 "metadata": {
  "kernelspec": {
   "display_name": "Python 3",
   "language": "python",
   "name": "python3"
  },
  "language_info": {
   "codemirror_mode": {
    "name": "ipython",
    "version": 3
   },
   "file_extension": ".py",
   "mimetype": "text/x-python",
   "name": "python",
   "nbconvert_exporter": "python",
   "pygments_lexer": "ipython3",
   "version": "3.8.9"
  }
 },
 "nbformat": 4,
 "nbformat_minor": 4
}
